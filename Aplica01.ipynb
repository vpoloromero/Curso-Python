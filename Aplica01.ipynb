{
  "nbformat": 4,
  "nbformat_minor": 0,
  "metadata": {
    "colab": {
      "name": "Aplica01",
      "provenance": [],
      "collapsed_sections": [],
      "authorship_tag": "ABX9TyPfOJYh0qHEOYeOtMifH/IC"
    },
    "kernelspec": {
      "name": "python3",
      "display_name": "Python 3"
    },
    "language_info": {
      "name": "python"
    }
  },
  "cells": [
    {
      "cell_type": "code",
      "metadata": {
        "id": "SoEslu0lVNO-"
      },
      "source": [
        ""
      ],
      "execution_count": null,
      "outputs": []
    },
    {
      "cell_type": "markdown",
      "metadata": {
        "id": "06EPRClXVYol"
      },
      "source": [
        "**programa 1**\n",
        "# hola\n",
        "* hola1\n",
        "1. hola3\n",
        "----\n",
        "$ Y=2+X^2$\n"
      ]
    },
    {
      "cell_type": "code",
      "metadata": {
        "id": "EbJMzBI3YYjc"
      },
      "source": [
        ""
      ],
      "execution_count": null,
      "outputs": []
    },
    {
      "cell_type": "markdown",
      "metadata": {
        "id": "Eus2oEipYXRL"
      },
      "source": [
        ""
      ]
    },
    {
      "cell_type": "markdown",
      "metadata": {
        "id": "pq4NoqaBYWbe"
      },
      "source": [
        ""
      ]
    },
    {
      "cell_type": "code",
      "metadata": {
        "colab": {
          "base_uri": "https://localhost:8080/"
        },
        "id": "Jef-6So7VXZ1",
        "outputId": "2060ba8e-5c1e-46bb-c778-35f955e5c35f"
      },
      "source": [
        "a=5\n",
        "b=8\n",
        "c=a+b\n",
        "print(\"La Suma es \", c)"
      ],
      "execution_count": 2,
      "outputs": [
        {
          "output_type": "stream",
          "text": [
            "La Suma es  13\n"
          ],
          "name": "stdout"
        }
      ]
    }
  ]
}